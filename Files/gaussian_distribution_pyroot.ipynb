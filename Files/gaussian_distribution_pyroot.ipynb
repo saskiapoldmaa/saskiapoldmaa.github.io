{
 "cells": [
  {
   "cell_type": "markdown",
   "id": "eea0227f-193c-4f1c-ace5-ec59a0fb83ba",
   "metadata": {},
   "source": [
    "# First Example: Check If Your Local ROOT Can Run A Simple PyROOT Notebook"
   ]
  },
  {
   "cell_type": "code",
   "execution_count": 1,
   "id": "f546866b-e0a0-4390-8b28-7313d3ef2e84",
   "metadata": {},
   "outputs": [],
   "source": [
    "import ROOT"
   ]
  },
  {
   "cell_type": "markdown",
   "id": "9558d7fb-6bd3-4805-9b7a-e098e352bca1",
   "metadata": {},
   "source": [
    "Let's try to \n",
    "- create a set of random numbers\n",
    "- that are distributed according to a Gaussian distribution\n",
    "- and see if we can plot these numbers\n",
    "\n",
    "Please let Seyma or Martin know if you have any issues running this example either using the ROOT installation on your computer or in the virtual machine!"
   ]
  },
  {
   "cell_type": "markdown",
   "id": "d0d2e4ab-d65f-4302-aec6-ae49f5f7e78d",
   "metadata": {},
   "source": [
    "## Define the Gaussian Distribution As A Formula With Two Parameters $\\sigma$ and $\\mu$\n",
    "\n",
    "Note: there is already a built-in `gaus` formula that you would normally use, but in order to test something simple, we are defining our own formula"
   ]
  },
  {
   "cell_type": "code",
   "execution_count": 2,
   "id": "38731c69-283d-461e-be47-b08406132094",
   "metadata": {},
   "outputs": [],
   "source": [
    "gauss_fml = ROOT.TFormula(\"gauss_fml\", \"1/([sigma]*sqrt(2*pi)) * exp(-0.5*((x-[mu])/[sigma])*((x-[mu])/[sigma]))\" )"
   ]
  },
  {
   "cell_type": "markdown",
   "id": "a834edd3-c1d6-44bd-85ef-6d71091c7da9",
   "metadata": {},
   "source": [
    "## Createa 1D Sequences For Different Parameterisations of the Gaussian Distributions"
   ]
  },
  {
   "cell_type": "markdown",
   "id": "616f582c-e877-47a3-a26e-ed87d5a910d1",
   "metadata": {},
   "source": [
    "In order to generate a sequence of values according to the formula `gaus_fml`, we have to set the values for the two distribution parameters`[sigma]` and `[mu]` "
   ]
  },
  {
   "cell_type": "code",
   "execution_count": 3,
   "id": "476fd2ff-83ee-43e9-a175-f697e47c367a",
   "metadata": {},
   "outputs": [
    {
     "name": "stdout",
     "output_type": "stream",
     "text": [
      "mu: 0.0, sigma: 1.5\n"
     ]
    }
   ],
   "source": [
    "# By default, the parameters are ordered alphabetically, so [mu] is first, then comes [sigma]\n",
    "gauss_fml.SetParameters( 0.0, 1.5 ) \n",
    "\n",
    "# We can retrieve the values for the two parameters using the \"Getter\" functions:\n",
    "sigma = gauss_fml.GetParameter( \"sigma\" ) \n",
    "mu = gauss_fml.GetParameter( \"mu\" ) \n",
    "print( f\"mu: {mu}, sigma: {sigma}\" )\n",
    "\n",
    "# There is a similar way to set individual parameters, we will be using that in a few steps"
   ]
  },
  {
   "cell_type": "markdown",
   "id": "a2d54053-d92f-47ae-af97-16efbb98f440",
   "metadata": {},
   "source": [
    "## Plot The Sequences"
   ]
  },
  {
   "cell_type": "markdown",
   "id": "8d1a148b-768e-405d-aada-a014cb566b2c",
   "metadata": {},
   "source": [
    "In order to \"Draw\" something (like a plot), we needa a \"Canvas\":"
   ]
  },
  {
   "cell_type": "code",
   "execution_count": 4,
   "id": "f2a5bad7-3133-4759-821c-9c9f1b1908fd",
   "metadata": {},
   "outputs": [],
   "source": [
    "c1 = ROOT.TCanvas( \"c1\", \"Gaussian Distribution\" )"
   ]
  },
  {
   "cell_type": "markdown",
   "id": "0e77b3da-c25d-4241-92d4-1cd2cd4f49d5",
   "metadata": {},
   "source": [
    "Lets generate a sequence of values by evaluating the `gauss_fml` formula on an interval $[x_{min}, x_{max}]$. Since we know that almost all values are within $\\pm 3\\cdot\\sigma$ around the mean value $\\mu$, we can use this to find values for $x_{min}$ and $x_{max}$:"
   ]
  },
  {
   "cell_type": "code",
   "execution_count": 5,
   "id": "55628b9c-bcc5-444e-9a19-89b752465fba",
   "metadata": {},
   "outputs": [],
   "source": [
    "xmin = mu - 4.0 * sigma\n",
    "xmax = mu + 4.0 * sigma\n",
    "\n",
    "# gauss_values0 is a 1D manifold that can have values between the xmin and xmax boundaries:\n",
    "gauss_values0 = ROOT.TF1( \"gauss_values0\", \"gauss_fml\", xmin, xmax )"
   ]
  },
  {
   "cell_type": "markdown",
   "id": "882573e0-0909-45d2-88fa-ce2c92da71ba",
   "metadata": {},
   "source": [
    "Let's change one of the distribution parameters and create a second 1D manifold:"
   ]
  },
  {
   "cell_type": "code",
   "execution_count": 6,
   "id": "a154aeda-92c7-48e9-ac95-6062339bdbc3",
   "metadata": {},
   "outputs": [],
   "source": [
    "gauss_fml.SetParameter( \"mu\", 1.0 )\n",
    "gauss_values1 = ROOT.TF1( \"gauss_values1\", \"gauss_fml\", xmin, xmax )"
   ]
  },
  {
   "cell_type": "markdown",
   "id": "7d389c34-9ba2-4a97-8ee8-1517828abf29",
   "metadata": {},
   "source": [
    "Please check [the documentation](https://root.cern.ch/doc/master/classTAttLine.html) for an explaination of what the numbers in the `SetLineColor`, `SetLineWidth` and `SetLineAttributes` command refer to"
   ]
  },
  {
   "cell_type": "code",
   "execution_count": 7,
   "id": "8a0e6b14-f371-4abb-8034-ad424d8baeb3",
   "metadata": {},
   "outputs": [],
   "source": [
    "c1.SetGridx()\n",
    "c1.SetGridy()\n",
    "gauss_values0.SetLineColor( 9 )\n",
    "gauss_values0.SetLineStyle( 1 )\n",
    "gauss_values0.SetLineWidth( 2 )\n",
    "gauss_values0.Draw()\n",
    "\n",
    "gauss_values1.SetLineColor( 6 )\n",
    "gauss_values1.SetLineStyle( 2 )\n",
    "gauss_values1.SetLineWidth( 1 )\n",
    "# Using \"SAME\" in the Draw command re-uses the same canvas for the second plot\n",
    "gauss_values1.Draw( \"SAME\" )\n"
   ]
  },
  {
   "cell_type": "code",
   "execution_count": 8,
   "id": "95090bf9-2002-4ad0-a00e-98ec510e7d2b",
   "metadata": {},
   "outputs": [
    {
     "data": {
      "image/png": "[encoded data removed]",
      "text/plain": [
       "<IPython.core.display.Image object>"
      ]
     },
     "metadata": {},
     "output_type": "display_data"
    }
   ],
   "source": [
    "c1.Draw()"
   ]
  },
  {
   "cell_type": "markdown",
   "id": "929c91c7-bbea-4d97-892d-f7f4da418f57",
   "metadata": {},
   "source": [
    "## Create Pseudo Random Numbers & Visualise Them As A Histogramm"
   ]
  },
  {
   "cell_type": "code",
   "execution_count": 9,
   "id": "bc574b94-f066-4c49-a77f-32b9cd7c389f",
   "metadata": {},
   "outputs": [],
   "source": [
    "c2 = ROOT.TCanvas( \"c2\", \"Histogramm\" )"
   ]
  },
  {
   "cell_type": "code",
   "execution_count": 10,
   "id": "5480f2d3-fb3d-4b30-9ef3-dd050a41f654",
   "metadata": {},
   "outputs": [],
   "source": [
    "n_bins = 50\n",
    "n_numbers = 10000\n",
    "histogram1 = ROOT.TH1F( \"histogram1\", \"Pseudo-Random Numbers\", n_bins, xmin, xmax )\n",
    "histogram1.SetFillColor( 11 )\n",
    "\n",
    "# We are using the \"ranged\" 1D expression rather than the formula. Otherwise, the \"random number generator\" would not \n",
    "# know for which interval to generate values:\n",
    "histogram1.FillRandom( \"gauss_values1\", n_numbers ) \n",
    "histogram1.Draw()\n",
    "histogram1.GetXaxis().SetTitle( \"x\" )\n",
    "histogram1.GetXaxis().CenterTitle(True)\n",
    "histogram1.GetYaxis().SetTitle( \"Number of Occurances\" )\n",
    "histogram1.GetYaxis().CenterTitle(True)"
   ]
  },
  {
   "cell_type": "code",
   "execution_count": 11,
   "id": "071495cc-e761-43a7-b4bd-f01975aae9b4",
   "metadata": {},
   "outputs": [
    {
     "data": {
      "image/png": "[encoded data removed]",
      "text/plain": [
       "<IPython.core.display.Image object>"
      ]
     },
     "metadata": {},
     "output_type": "display_data"
    }
   ],
   "source": [
    "c2.Draw()"
   ]
  },
  {
   "cell_type": "markdown",
   "id": "fffb7751-3c3e-4c54-be0d-5f1329c3ac3f",
   "metadata": {},
   "source": [
    "## Save Some Of The Expressions (and Data) We Have Created Into a ROOT File"
   ]
  },
  {
   "cell_type": "code",
   "execution_count": 14,
   "id": "a4b94fcd-e6e7-49f6-bcbe-bbe69e62ed52",
   "metadata": {},
   "outputs": [],
   "source": [
    "output_file = ROOT.TFile( \"./example1_gaussian_distribution_python.root\", \"RECREATE\" )\n",
    "\n",
    "gauss_fml.Write()\n",
    "histogram1.Write()\n",
    "output_file.Close()"
   ]
  },
  {
   "cell_type": "code",
   "execution_count": null,
   "id": "e0e1334c-105b-4078-abf5-33c61f784108",
   "metadata": {},
   "outputs": [],
   "source": []
  }
 ],
 "metadata": {
  "kernelspec": {
   "display_name": "Python 3 (ipykernel)",
   "language": "python",
   "name": "python3"
  },
  "language_info": {
   "codemirror_mode": {
    "name": "ipython",
    "version": 3
   },
   "file_extension": ".py",
   "mimetype": "text/x-python",
   "name": "python",
   "nbconvert_exporter": "python",
   "pygments_lexer": "ipython3",
   "version": "3.9.18"
  }
 },
 "nbformat": 4,
 "nbformat_minor": 5
}
