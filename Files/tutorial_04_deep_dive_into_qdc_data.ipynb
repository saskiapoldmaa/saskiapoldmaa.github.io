{
 "cells": [
  {
   "cell_type": "markdown",
   "id": "d2f75b45",
   "metadata": {},
   "source": [
    "# Tutorial 04: Deep Dive Into QDC Data (Special Guests: TDC & Scaler Datasets!)\n",
    "\n",
    "Last time we did look into how to access the contents of a raw data file and how to process the **entries** in a **tree** across **branches** so we can read all the data and measurement values that belong to a single event (entry) together. This time, we will \n",
    "\n",
    "- look into how the QDC actually performs its measurement\n",
    "- learn about something called \"pedestal\" and try to figure out how to handle that kind of thing\n",
    "- look into the TDC and Scalar related branches and try to figure out how we can combine this information with the data from the QDC\n",
    "- answer any questions you may have had\n",
    "\n",
    "There is a lot to do, let's get started!\n",
    "\n"
   ]
  },
  {
   "cell_type": "markdown",
   "id": "51d43361",
   "metadata": {},
   "source": [
    "## How does a QDC actually work & who put something on a pedestal???\n",
    "\n",
    "So far we have established, that \n",
    "- A QDC is a \"Charge To Digital\" converter\n",
    "- It measures charge by integrating electrical current over time, i.e.\n",
    "\n",
    "  $$I(t) = \\frac{dQ}{dt} \\quad \\Longrightarrow \\quad Q = \\int_{t_{START}}^{t_{END}} I(t)\\;dt $$\n",
    "  \n",
    "- In order to get a \"number\" as the result of the measurement, the integral has to be \"definite\" i.e., we have to integrate between boundaries ($t_{START}$ and $t_{END}$ in the formula above). This means that our integration is measuring the area under the curve $I(t)$ between the points in time $ \\left[t_{START},t_{END}\\right] $. \n",
    "\n",
    "![](https://codimd.web.cern.ch/uploads/upload_888d12857db141a4a10c0783e921bd8e.png)\n",
    "\n",
    "  It is important to chose the integration interval not too large (otherwise we will capture a lot of contributions of noise and will artifically increase our value for Q) and not too small (otherwise we will not measure the area under the curve of the whole signal). Also, we have to check that the signal really arrives between $t_{START}$ and $t_{END}$. **The whole process of ensuring this things is called \"timing-in\" for a signal**, you will find descriptions how we did things in the lab book!\n"
   ]
  },
  {
   "cell_type": "markdown",
   "id": "9c1a8b04",
   "metadata": {},
   "source": [
    "### Team Mavericks had an excellent Question:"
   ]
  },
  {
   "cell_type": "markdown",
   "id": "9a337dd3",
   "metadata": {},
   "source": [
    "```\n",
    "The time period over which the QDC integrates the current was apparently very important.  Where can we find that info in the log book?\n",
    "```"
   ]
  },
  {
   "cell_type": "markdown",
   "id": "5cdc8e57",
   "metadata": {},
   "source": [
    "**ANSWER**: You can find the integraton time in the log book, but it is a bit hidden. The QDC takes $t_{START}$ and $t_{END}$ from the \"edges\" of the trigger signal. I.e., the length of the interval is the length of the trigger interval. If a trigger signal is used like this, we call it a **GATE** signal."
   ]
  },
  {
   "cell_type": "markdown",
   "id": "17c2f8ae",
   "metadata": {},
   "source": [
    "![](https://codimd.web.cern.ch/uploads/upload_480a8cb2c38def8fa972e4225dc29661.png)"
   ]
  },
  {
   "cell_type": "markdown",
   "id": "5ff3f37d",
   "metadata": {},
   "source": [
    "- Using this idea, one can easily derive numerical methods to calculate the area under the curve, for example the [Trapezoid method](https://en.wikipedia.org/wiki/Trapezoidal_rule) method:\n",
    "\n",
    "$$\\; Q = \\int_{t_{START}}^{t_{END}}I(t)\\,dt \\; \\approx \\; \\frac{t_{END} - t_{START}}{2\\cdot N}\\; \\left( I(t_{START}) \\; + \\; I(t_{END}) \\; + \\; \\sum_{i=1}^{N-2} 2\\,I(t_i) \\right) \\quad \\text{with} \\; t_i  \\; \\text{being the} \\; N - 2 \\; \\text{equally spaced points between} \\; t_{START} \\; \\text{and} \\; t_{END} $$\n",
    "\n",
    "- This is for example how the Sakura Particles team plan to measure the deposited energy with their updated electronics \n",
    "\n",
    "- The QDC that we are using is a `CAEN v792AC` and it works slightly differently. It charges a capacitor with the analog signal $I(t)$ while the \"Gate\" is open (i.e., between $t_{START}$ and $t_{END}$ to \"integrate\" the signal \"analogly\". Then, once the \"Gate\" is closed (i.e., after we pass $t_{END}$), we measure the charge collected in the capacitor using an `Analog-To-Digital Converter` (ADC) which is essentially a counter. The higher the counting value· the more charge - this works pretty similar to the Arduino ADC that you have used to measure voltages!\n"
   ]
  },
  {
   "cell_type": "markdown",
   "id": "e25717c1",
   "metadata": {},
   "source": [
    "![](https://codimd.web.cern.ch/uploads/upload_4b7f8ff68449e994cd4db1578fb31db8.png)"
   ]
  },
  {
   "cell_type": "markdown",
   "id": "d9628ec7",
   "metadata": {},
   "source": [
    "If you look closely, you will see that we are not only integrating the signal $I(t)$ but also have something there that is called $I_{PED}$. This is the so called **pedestal current** and it helps us avoid two issues:\n",
    "\n",
    "1) if $V_{out}$ is very small (let's say a QDC count of `1`), then it can happen that the count is recorded at the `ADC` as `0` or `2`, due to rounding. This is unavoidable if you measure something by counting, the name of this problem is **Quantization Error**. If you measure such a small quantity, the relative error that you make is huge:\n",
    "\n",
    "$$ Error = \\left| \\frac{\\text{Count}_{True} - \\text{Count}_{Measure}}{\\text{Count}_{True}} \\right| \\times 100 \\% \\quad \\text{So} \\quad \\left|\\frac{2 - 1}{1}\\right| \\times 100\\% \\quad = 100\\%$$"
   ]
  },
  {
   "cell_type": "markdown",
   "id": "1cdabba6",
   "metadata": {},
   "source": [
    "   In our example, the relative error of measuring `1` as either `0` or `2` is `100%` !!!!\n",
    "   If we add, let's say, `100` as a constant offset to the measurement, the relative error becomes \n",
    "    \n",
    "   $$ Error = \\left|\\frac{101 - 100}{100}\\right| \\times 100\\% \\quad = \\quad 1\\% $$\n",
    "    \n",
    "   By sacrificing a bit of range (we are losing the 100 we added i.e., instead of `4096` on our QDC we could only count to `3096` for this example), we can reduce the impact of quantization noise massively, especially for small signals. This is one of the reaons to add a pedastal current to the signal that we integrate, it \"shifts\" the result by an (ideally) constant amount."
   ]
  },
  {
   "cell_type": "markdown",
   "id": "e9c931a4",
   "metadata": {},
   "source": [
    "2) The integration on the capacitor is not linear for small signals i.e., there is a bit of a distortion if you compare the measurement results for small signals to the QDC count. By shifting the count again by a constant value, we can avoid this non-linearities and get a better and more reliable measurement.\n",
    "\n",
    "This is for example not what the CosmicWatch implementation has done, there they have provided a polynomial fit for the nonlinear response curve but did not sacrifice any of the dynamic range of the signal. Given the constraints of this device, it makes sense. But there are alternatives"
   ]
  },
  {
   "cell_type": "markdown",
   "id": "5243c7f1",
   "metadata": {},
   "source": [
    "## Measuring & Compensating the Pedestal"
   ]
  },
  {
   "cell_type": "markdown",
   "id": "52566f5c",
   "metadata": {},
   "source": [
    "Let's have a look at run `1722364119` in the log book:"
   ]
  },
  {
   "cell_type": "markdown",
   "id": "b90e051f",
   "metadata": {},
   "source": [
    "- Run 1722364119 : Pedestal measurement\n",
    "  - Trigger: `S0&S1&NOT BUSY`\n",
    "  - event rate according to CESAR: 29k/spill\n",
    "  - beam file :287, +7 GeV Muon beam from IDEA CC \n",
    "  - trigger rate according to TDAQ: 2.4k\n",
    "  - XCET40: 14 bar\n",
    "  - XCET43: 4.2 bar\n",
    "  - total event number: 21k"
   ]
  },
  {
   "cell_type": "markdown",
   "id": "e0316bb3",
   "metadata": {},
   "source": [
    "In this measurement, we made sure that no particles hit the scintillators `S2` and `S3` and the calorimeter `CAL17`. Since `S2` and `S3` were part of the trigger, we had to change the trigger configuration and use `S0 & S1 & NOT BUSY` instead. Everything else is the same - this ensures that we get the correct \"Gate\" width and integration interval and that we integrate only the $I_{PED}$ current but under the same conditions as during the measurement.\n",
    "\n",
    "We know how we can create a Histogram about the data on the `QDC` channels `0`, `1`, `2`. "
   ]
  },
  {
   "cell_type": "code",
   "execution_count": 1,
   "id": "17baa5f0",
   "metadata": {},
   "outputs": [
    {
     "name": "stdout",
     "output_type": "stream",
     "text": [
      "Welcome to JupyROOT 6.30/04\n"
     ]
    }
   ],
   "source": [
    "import ROOT"
   ]
  },
  {
   "cell_type": "code",
   "execution_count": 2,
   "id": "163e9ab4",
   "metadata": {},
   "outputs": [],
   "source": [
    "from pathlib import Path"
   ]
  },
  {
   "cell_type": "code",
   "execution_count": 3,
   "id": "8e8adf62",
   "metadata": {},
   "outputs": [],
   "source": [
    "path_to_data_files = Path(r\"/eos/project/b/bl4s/Technics&Physics/2024/Data/T10July/2024/T10July/root/\")\n",
    "path_to_pedestal_file = path_to_data_files / Path(\"1722364119.root\")"
   ]
  },
  {
   "cell_type": "code",
   "execution_count": 4,
   "id": "d4f08106",
   "metadata": {},
   "outputs": [],
   "source": [
    "ped_file = ROOT.TFile.Open(str(path_to_pedestal_file.absolute()))"
   ]
  },
  {
   "cell_type": "code",
   "execution_count": 5,
   "id": "e198cf10",
   "metadata": {},
   "outputs": [],
   "source": [
    "raw_tree = ped_file.Get(\"RAWdata\")"
   ]
  },
  {
   "cell_type": "code",
   "execution_count": 6,
   "id": "21081b3f",
   "metadata": {},
   "outputs": [
    {
     "name": "stdout",
     "output_type": "stream",
     "text": [
      "There are 21829 events in this tree\n"
     ]
    }
   ],
   "source": [
    "print(f\"There are {raw_tree.GetEntries()} events in this tree\")"
   ]
  },
  {
   "cell_type": "code",
   "execution_count": 7,
   "id": "5456e8f7",
   "metadata": {},
   "outputs": [],
   "source": [
    "num_bins = 800\n",
    "s2_pedestal_hist = ROOT.TH1I(\"s2_pedestal_hist\", \"S2, Pedestal Run\", num_bins, 0, 4096)\n",
    "s3_pedestal_hist = ROOT.TH1I(\"s3_pedestal_hist\", \"S3, Pedestal Run\", num_bins, 0, 4096)\n",
    "cal17_pedestal_hist = ROOT.TH1I(\"cal17_pedestal_hist\", \"CAL 17, Pedestal Run\", num_bins, 0, 4096)\n",
    "\n",
    "\n",
    "for event in raw_tree:\n",
    "    s2_pedestal_hist.Fill(int(event.QDC0_ch0))\n",
    "    s3_pedestal_hist.Fill(int(event.QDC0_ch1))\n",
    "    cal17_pedestal_hist.Fill(int(event.QDC0_ch2))"
   ]
  },
  {
   "cell_type": "code",
   "execution_count": 8,
   "id": "51c8170c",
   "metadata": {},
   "outputs": [
    {
     "data": {
      "image/png": "[encoded data removed]",
      "text/plain": [
       "<IPython.core.display.Image object>"
      ]
     },
     "metadata": {},
     "output_type": "display_data"
    }
   ],
   "source": [
    "stack0 = ROOT.THStack(\"stack0\", \"S2, S3, and CAL17 Pedestals from Run 1722364119\")\n",
    "\n",
    "s2_pedestal_hist.SetLineColor(210)\n",
    "s2_pedestal_hist.SetTitle(\"S2 Pedestal\")\n",
    "stack0.Add(s2_pedestal_hist)\n",
    "\n",
    "\n",
    "s3_pedestal_hist.SetLineColor(92)\n",
    "s3_pedestal_hist.SetTitle(\"S3 Pedestal\")\n",
    "stack0.Add(s3_pedestal_hist)\n",
    "\n",
    "cal17_pedestal_hist.SetLineColor(46)\n",
    "cal17_pedestal_hist.SetTitle(\"CAL17\")\n",
    "stack0.Add(cal17_pedestal_hist)\n",
    "\n",
    "c0 = ROOT.TCanvas(\"c0\", \"S2, S3, and CAL17 Pedestals from Run 1722364119\", 10, 10, 600, 600)\n",
    "c0.cd(1)\n",
    "\n",
    "stack0.Draw(\"nostack\")\n",
    "stack0.GetXaxis().SetTitle(\"QDC count\")\n",
    "stack0.GetYaxis().SetTitle(\"#Occurances\")\n",
    "stack0.GetXaxis().SetLimits(80, 160)\n",
    "\n",
    "leg = ROOT.TLegend(0.1, 0.1, 0.3, 0.3, \"Legend\")\n",
    "leg.AddEntry(s2_pedestal_hist, \"S2 Pedestal\")\n",
    "leg.AddEntry(s3_pedestal_hist, \"S3 Pedestal\")\n",
    "leg.AddEntry(cal17_pedestal_hist, \"CAL17 Pedestal\")\n",
    "leg.Draw()\n",
    "\n",
    "c0.Update()"
   ]
  },
  {
   "cell_type": "code",
   "execution_count": 9,
   "id": "000d0294",
   "metadata": {},
   "outputs": [
    {
     "data": {
      "image/png": "[encoded data removed]",
      "text/plain": [
       "<IPython.core.display.Image object>"
      ]
     },
     "metadata": {},
     "output_type": "display_data"
    }
   ],
   "source": [
    "c0.Draw()"
   ]
  },
  {
   "cell_type": "markdown",
   "id": "fa9f0190",
   "metadata": {},
   "source": [
    "Well, that looks quite constant (at least not Gaussian distributed, which is good, there should not be a lot of noise). Let's get the Pedestal mean and standard deviation values for each channel:"
   ]
  },
  {
   "cell_type": "code",
   "execution_count": 10,
   "id": "0a55ef32",
   "metadata": {},
   "outputs": [
    {
     "name": "stdout",
     "output_type": "stream",
     "text": [
      "Pedestal S2   : Mean = 98.5, StdDev =  0.5\n",
      "Pedestal S3   : Mean = 135.6, StdDev =  0.5\n",
      "Pedestal CAL17: Mean = 103.1, StdDev =  0.4\n"
     ]
    }
   ],
   "source": [
    "print(f\"Pedestal S2   : Mean = {s2_pedestal_hist.GetMean():4.1f}, StdDev = {s2_pedestal_hist.GetStdDev():4.1f}\")\n",
    "print(f\"Pedestal S3   : Mean = {s3_pedestal_hist.GetMean():4.1f}, StdDev = {s3_pedestal_hist.GetStdDev():4.1f}\")\n",
    "print(f\"Pedestal CAL17: Mean = {cal17_pedestal_hist.GetMean():4.1f}, StdDev = {cal17_pedestal_hist.GetStdDev():4.1f}\")"
   ]
  },
  {
   "cell_type": "markdown",
   "id": "570a59be",
   "metadata": {},
   "source": [
    "A couple of observations:\n",
    "1) we could have done this without histograms, we could for example have found the mean, average, standard deviation, minimum, maximum, 80/20 percentille values, etc. while looping over all the entries in the list. Just because there is a histogram class available does not mean that we have to use it :-)\n",
    "\n",
    "2) The values for the different channels are different - the QDC generates the pedestal internally but it does not manage to create exactly the same current for each channel. This means, we have to keep track of the pedestal values per channel!\n",
    "\n",
    "3) The standard deviation is quite small compared to the mean values, so taking the mean values of each pedestal as the \"measured\" contribution to the QDC count is a good approximation. "
   ]
  },
  {
   "cell_type": "markdown",
   "id": "03d70e64",
   "metadata": {},
   "source": [
    "The pedestal current $I_{PED}$ is added to all signals during the integration. Therfore, every result should have at least the charge measured for the pedestal as result. In order to get the \"real\" contribution for each channel, we have to **compensate** for the pedestal. This is done by subtracting the pedestal value from the measured QDC count for each entry:"
   ]
  },
  {
   "cell_type": "code",
   "execution_count": 11,
   "id": "8c1a92d8",
   "metadata": {},
   "outputs": [],
   "source": [
    "# The QDC can only count in integer values. Therfore, values like \"98.5\" or \"135.6\" do not make a lot of sense.\n",
    "# To be on the safe side and to account for the finite standard deviation, we take the first integer number that is smaller than the \n",
    "# calculated mean value for the pedestal:\n",
    "\n",
    "pedestals = {\n",
    "    \"QDC0_ch0\": 98, \n",
    "    \"QDC0_ch1\": 135,\n",
    "    \"QDC0_ch2\": 103,\n",
    "}"
   ]
  },
  {
   "cell_type": "code",
   "execution_count": 12,
   "id": "450b715b",
   "metadata": {},
   "outputs": [],
   "source": [
    "num_bins = 800\n",
    "\n",
    "histograms_with_pedestal = {\n",
    "    \"QDC0_ch0\": ROOT.TH1I(\"s2\", \"S2\", num_bins, 0, 4096), \n",
    "    \"QDC0_ch1\": ROOT.TH1I(\"s3\", \"S3\", num_bins, 0, 4096),\n",
    "    \"QDC0_ch2\": ROOT.TH1I(\"cal17\", \"CAL17\", num_bins, 0, 4096),\n",
    "}\n",
    "\n",
    "histograms_with_correction = {\n",
    "    \"QDC0_ch0\": ROOT.TH1I(\"s2_no_pedestal\", \"S2, without Pedestal\", num_bins, 0, 4096), \n",
    "    \"QDC0_ch1\": ROOT.TH1I(\"s3_no_pedestal\", \"S3, without Pedestal\", num_bins, 0, 4096),\n",
    "    \"QDC0_ch2\": ROOT.TH1I(\"cal17_no_pedestal\", \"CAL17, without Pedestal\", num_bins, 0, 4096),\n",
    "}"
   ]
  },
  {
   "cell_type": "markdown",
   "id": "96a58615",
   "metadata": {},
   "source": [
    "Let's apply this to the example we used last week:"
   ]
  },
  {
   "cell_type": "code",
   "execution_count": 13,
   "id": "988e5616",
   "metadata": {},
   "outputs": [],
   "source": [
    "path_no_abs = path_to_data_files / Path(\"1722178299.root\")\n",
    "raw_no_absorber = ROOT.TFile(str(path_no_abs.absolute()))"
   ]
  },
  {
   "cell_type": "code",
   "execution_count": 23,
   "id": "4b46f5aa",
   "metadata": {},
   "outputs": [
    {
     "ename": "NameError",
     "evalue": "name 'tree' is not defined",
     "output_type": "error",
     "traceback": [
      "\u001b[0;31m---------------------------------------------------------------------------\u001b[0m",
      "\u001b[0;31mNameError\u001b[0m                                 Traceback (most recent call last)",
      "\u001b[0;32m/tmp/ipykernel_873/1073233867.py\u001b[0m in \u001b[0;36m<module>\u001b[0;34m\u001b[0m\n\u001b[1;32m      1\u001b[0m \u001b[0;31m# Get the total number of events in the root file:\u001b[0m\u001b[0;34m\u001b[0m\u001b[0;34m\u001b[0m\u001b[0m\n\u001b[0;32m----> 2\u001b[0;31m \u001b[0mprint\u001b[0m\u001b[0;34m(\u001b[0m\u001b[0;34mf\"Total number of events in this file: {tree.GetEntries()}\"\u001b[0m\u001b[0;34m)\u001b[0m\u001b[0;34m\u001b[0m\u001b[0;34m\u001b[0m\u001b[0m\n\u001b[0m",
      "\u001b[0;31mNameError\u001b[0m: name 'tree' is not defined"
     ]
    }
   ],
   "source": [
    "# Get the total number of events in the root file:\n",
    "print(f\"Total number of events in this file: {tree.GetEntries()}\")"
   ]
  },
  {
   "cell_type": "code",
   "execution_count": 24,
   "id": "6594ee51",
   "metadata": {},
   "outputs": [],
   "source": [
    "tree = raw_no_absorber.Get(\"RAWdata\")\n",
    "\n",
    "for entry in tree:\n",
    "    for channel, pedestal_value in pedestals.items():\n",
    "        val = int(getattr(entry, channel))\n",
    "        histograms_with_pedestal[channel].Fill(val)\n",
    "        \n",
    "        corrected_val = max(val - pedestal_value, 0)\n",
    "        histograms_with_correction[channel].Fill(corrected_val)\n",
    "        "
   ]
  },
  {
   "cell_type": "code",
   "execution_count": 25,
   "id": "acfe8d57",
   "metadata": {},
   "outputs": [],
   "source": [
    "stack_s2 = ROOT.THStack(\"stack_s2\", \"Comparison S2 with and without pedestal contribution from Run 1722178299\")\n",
    "\n",
    "histograms_with_pedestal[\"QDC0_ch0\"].SetLineColor(210)\n",
    "histograms_with_pedestal[\"QDC0_ch0\"].SetTitle(\"S2 With Pedestal\")\n",
    "stack_s2.Add(histograms_with_pedestal[\"QDC0_ch0\"])\n",
    "\n",
    "histograms_with_correction[\"QDC0_ch0\"].SetLineColor(2)\n",
    "histograms_with_correction[\"QDC0_ch0\"].SetTitle(\"S2 With Correction\")\n",
    "stack_s2.Add(histograms_with_correction[\"QDC0_ch0\"])"
   ]
  },
  {
   "cell_type": "code",
   "execution_count": 26,
   "id": "8e3ac774",
   "metadata": {
    "scrolled": true
   },
   "outputs": [
    {
     "name": "stderr",
     "output_type": "stream",
     "text": [
      "Warning in <TCanvas::Constructor>: Deleting canvas with same name: c1\n"
     ]
    }
   ],
   "source": [
    "c1 = ROOT.TCanvas(\"c1\", \"Comparison S2 with and without pedestal contribution from Run 1722178299\", 10, 10, 600, 600)\n",
    "c1.cd(1)\n",
    "\n",
    "stack_s2.Draw(\"nostack\")\n",
    "stack_s2.GetXaxis().SetTitle(\"QDC count\")\n",
    "stack_s2.GetYaxis().SetTitle(\"#Occurances\")\n",
    "stack_s2.GetXaxis().SetLimits(0, 1500)\n",
    "\n",
    "leg = ROOT.TLegend(0.6, 0.6, 0.8, 0.8, \"Legend\")\n",
    "leg.AddEntry(histograms_with_pedestal[\"QDC0_ch0\"], \"S2 with pedestal\")\n",
    "leg.AddEntry(histograms_with_correction[\"QDC0_ch0\"], \"S2 without pedestal\")\n",
    "leg.Draw()\n",
    "\n",
    "c1.Update()"
   ]
  },
  {
   "cell_type": "code",
   "execution_count": 27,
   "id": "bac969f3",
   "metadata": {},
   "outputs": [
    {
     "data": {
      "image/png": "[encoded data removed]",
      "text/plain": [
       "<IPython.core.display.Image object>"
      ]
     },
     "metadata": {},
     "output_type": "display_data"
    }
   ],
   "source": [
    "c1.Draw()"
   ]
  },
  {
   "cell_type": "markdown",
   "id": "7986bc77",
   "metadata": {},
   "source": [
    "**NOTE**: \n",
    "The shape of the distribution should not change, but the curve is displaced horizontally (and the binning into the histogram will be slightly different - it is possible that the shape of the curve appears to change slightly)"
   ]
  },
  {
   "cell_type": "markdown",
   "id": "4c29c13a",
   "metadata": {},
   "source": [
    "## Using TDC and Scaler Data To Filter Events"
   ]
  },
  {
   "cell_type": "markdown",
   "id": "75f63745",
   "metadata": {},
   "source": [
    "Let's look into the other two digitizer modules that we have mostly ignored until now:\n",
    "\n",
    "![](https://codimd.web.cern.ch/uploads/upload_ffa71d34fb90f58272cd6eb58a24ba53.png)\n",
    "\n",
    "Looking at the signal table, there are two TDCs: \n",
    "- TDC1 contains all the signals from the DWCs (L, R, U, D + coincidences of the anode signals) plus some convenient signals that could be useful for data analysis with the DWC (S0 & S1, S2 & S3, FS0 & FS1)\n",
    "- TDC0 contains signals from the cherenkov detectors, from the scintillators and from the calorimeter\n",
    "\n",
    "Both TDCs and Scalers take **digital** signals (compare this to the QDC which takes **analog** signals)\n",
    ">"
   ]
  },
  {
   "cell_type": "markdown",
   "id": "d20818d0",
   "metadata": {},
   "source": [
    "The main difference between the TDCs and the Scaler are\n",
    "- TDCs record per-particle information (i.e., the arrival time of a signal relative to the trigger)\n",
    "- Scalers count every arriving signal, even between trigger pulses. As such, the scaler is closer to the idea behind CESAR than the other things we do with TDAQ\n",
    "- If we readout the channels of the scaler whenever we have a trigger, then we get a \"snapshot\" of the counting values for each channel for each event\n",
    "\n",
    "Since the scaler is not affected by the busy logic (see the previous exercise), it can in theory record contributions from every particle that arrives. It also counts noise (unless we count coincidence signals). \n",
    "\n",
    "Useful things to do with a scaler:\n",
    "- You can calculate the ratio of how many particles have hit your detector compared to how many particles you could record with TDAQ#\n",
    "- You can check if the number of particles below/above the threshold of the XCETs recorded by TDAQ is representative of the ensemble of all arriving particles or if we had some \"bias\" in selecting them\n",
    "- You can check if the beam composition (or momentum distribution) remains stable over time or if there are fluctuations\n",
    "- You can check the signal/noise ratio for uncoincided signals\n",
    "- Debugging (how do you \"see\" signals if for example the trigger has an issue and you do not record data?)\n",
    "- You can make our colleague Jorgen very happy (he is a huge fan of the scaler)\n",
    "\n",
    "In the following, we will mostly look into the TDC data since it is particle by particle. But you can think about what information might be useful to have via the scaler (hint, data rate, hint!)"
   ]
  },
  {
   "cell_type": "markdown",
   "id": "63ee12d3",
   "metadata": {},
   "source": [
    "### Read TDC Data"
   ]
  },
  {
   "cell_type": "markdown",
   "id": "d6c6fa2e",
   "metadata": {},
   "source": [
    "Lets continue with the data file for run `1722178299` and let's see which branches are available for a TDC channel."
   ]
  },
  {
   "cell_type": "code",
   "execution_count": 28,
   "id": "eda71d72",
   "metadata": {},
   "outputs": [],
   "source": [
    "# Uncomment and run the following line if you want to get a listing of all branches in the tree:\n",
    "# tree.Print()"
   ]
  },
  {
   "cell_type": "markdown",
   "id": "78495162",
   "metadata": {},
   "source": [
    "TDC0 ch0 contains the signal `XCET040 & S0 & S1`. Whenever a particle was above the threshold of the high pressure cherenkov, you should get a hit on this channel. There are different branches for different aspects of this signal:\n",
    "\n",
    "``` \n",
    "*............................................................................*\n",
    "*Br  128 :NTDC0_ch0 : UInt_t Number of entries in branch TDC0_ch0            *\n",
    "*Entries :    56630 : Total  Size=     227710 bytes  File Size  =      19598 *\n",
    "*Baskets :        8 : Basket Size=      32000 bytes  Compression=  11.59     *\n",
    "*............................................................................*\n",
    "*Br  129 :TDC0_ch0  : TDC0_ch0[NTDC0_ch0]/i                                  *\n",
    "*Entries :    56630 : Total  Size=     420715 bytes  File Size  =     180818 *\n",
    "*Baskets :       21 : Basket Size=      32000 bytes  Compression=   2.32     *\n",
    "*............................................................................*\n",
    "*Br  130 :NTDC0_ch0_leading :                                                *\n",
    "*         | UInt_t Number of entries in branch TDC0_ch0_leading              *\n",
    "*Entries :    56630 : Total  Size=     227806 bytes  File Size  =      19656 *\n",
    "*Baskets :        8 : Basket Size=      32000 bytes  Compression=  11.56     *\n",
    "*............................................................................*\n",
    "*Br  131 :TDC0_ch0_leading : TDC0_ch0_leading[NTDC0_ch0_leading]/i           *\n",
    "*Entries :    56630 : Total  Size=     420947 bytes  File Size  =     180981 *\n",
    "*Baskets :       21 : Basket Size=      32000 bytes  Compression=   2.32     *\n",
    "*............................................................................*\n",
    "*Br  132 :NTDC0_ch0_trailing :                                               *\n",
    "*         | UInt_t Number of entries in branch TDC0_ch0_trailing             *\n",
    "*Entries :    56630 : Total  Size=     227818 bytes  File Size  =       1954 *\n",
    "*Baskets :        8 : Basket Size=      32000 bytes  Compression= 116.29     *\n",
    "*............................................................................*\n",
    "*Br  133 :TDC0_ch0_trailing : TDC0_ch0_trailing[NTDC0_ch0_trailing]/i        *\n",
    "*Entries :    56630 : Total  Size=     228794 bytes  File Size  =       3010 *\n",
    "*Baskets :       15 : Basket Size=      32000 bytes  Compression=  75.73     *\n",
    "```"
   ]
  },
  {
   "cell_type": "markdown",
   "id": "3f74b266",
   "metadata": {},
   "source": [
    "- `NTDC0_ch0xyz` gives the **number of hits for each event** on `ch0`\n",
    "- `TDC0_ch0xyz` gives the **times measured for all the hits belonging to each event** on `ch0`\n",
    "\n",
    "The signals are grouped by `leading`, `trailing` or no edge. These belong to different modes for the TDC.\n",
    "\n",
    "**We usually use only leading edge**\n",
    "\n",
    "The `CAEN V1290N` is a multi-hit TDC. this means, that for each event / entry, we get a vector of time measurements. This is even the case if there is only a single hit (which should happen most of the time). The `NTDC0` branch contains how many hits you received."
   ]
  },
  {
   "cell_type": "code",
   "execution_count": 29,
   "id": "3e9ae17f",
   "metadata": {},
   "outputs": [
    {
     "name": "stdout",
     "output_type": "stream",
     "text": [
      "TDC0 measurement: [6544]\n",
      "number of hits  : 1 -> this should be identical to taking the length of the measurement vector: 1\n"
     ]
    }
   ],
   "source": [
    "for entry in tree:\n",
    "    tdc_measurements = [x for x in entry.TDC0_ch0_leading]\n",
    "    num_hits = entry.NTDC0_ch0_leading\n",
    "    # Only do a single event\n",
    "    break\n",
    "    \n",
    "print(f\"TDC0 measurement: {tdc_measurements}\")\n",
    "print(f\"number of hits  : {num_hits} -> this should be identical to taking the length of the measurement vector: {len(tdc_measurements)}\")"
   ]
  },
  {
   "cell_type": "markdown",
   "id": "78044be4",
   "metadata": {},
   "source": [
    "Let's continue until we get more than one hit:"
   ]
  },
  {
   "cell_type": "code",
   "execution_count": 30,
   "id": "a98ad2a5",
   "metadata": {},
   "outputs": [
    {
     "name": "stdout",
     "output_type": "stream",
     "text": [
      "Event ID: 194\n",
      "TDC0 measurement: [7355, 21129]\n",
      "number of hits  : 2 -> this should be identical to taking the length of the measurement vector: 2\n"
     ]
    }
   ],
   "source": [
    "for event_id, entry in enumerate(tree):\n",
    "    num_hits = entry.NTDC0_ch0_leading\n",
    "    if num_hits <= 1:\n",
    "        continue\n",
    "    tdc_measurements = [x for x in entry.TDC0_ch0_leading]\n",
    "    # Only do a single event\n",
    "    break\n",
    "    \n",
    "print(f\"Event ID: {event_id}\")\n",
    "print(f\"TDC0 measurement: {tdc_measurements}\")\n",
    "print(f\"number of hits  : {num_hits} -> this should be identical to taking the length of the measurement vector: {len(tdc_measurements)}\")"
   ]
  },
  {
   "cell_type": "markdown",
   "id": "6880f2f2",
   "metadata": {},
   "source": [
    "TDC measurements are expressed as counting values - that's why the histograms are also integer valued!"
   ]
  },
  {
   "cell_type": "markdown",
   "id": "c0d1f472",
   "metadata": {},
   "source": [
    "Each count corresponds to one tick of the TDC which has a length of `25 ps`. You can calculate the time since the reference time (which is calculated relative to the trigger) by multiplying the value with 25 ps!"
   ]
  },
  {
   "cell_type": "markdown",
   "id": "944db323",
   "metadata": {},
   "source": [
    "It is possible to have no entries in the vector - then the `NTDC0_ch0_leading` histogram has a 0. For the Cherenkov detector, this means that no particle could produce enough photons to be registered (so the particle was most likely under the threshold)"
   ]
  },
  {
   "cell_type": "code",
   "execution_count": 31,
   "id": "98f15373",
   "metadata": {},
   "outputs": [
    {
     "name": "stdout",
     "output_type": "stream",
     "text": [
      "Event ID: 5\n",
      "TDC0 measurement: []\n",
      "number of hits  : 0 -> this should be identical to taking the length of the measurement vector: 0\n"
     ]
    }
   ],
   "source": [
    "for event_id, entry in enumerate(tree):\n",
    "    num_hits = entry.NTDC0_ch0_leading\n",
    "    if num_hits > 0:\n",
    "        continue\n",
    "    tdc_measurements = [x for x in entry.TDC0_ch0_leading]\n",
    "    # Only do a single event\n",
    "    break\n",
    "    \n",
    "print(f\"Event ID: {event_id}\")\n",
    "print(f\"TDC0 measurement: {tdc_measurements}\")\n",
    "print(f\"number of hits  : {num_hits} -> this should be identical to taking the length of the measurement vector: {len(tdc_measurements)}\")"
   ]
  },
  {
   "cell_type": "markdown",
   "id": "5fae9b16",
   "metadata": {},
   "source": [
    "**IDEA**: If we only want to figure out **if** a particle had a count, we do not have to read the values from the vector. We can, but usually we do not have to. "
   ]
  },
  {
   "cell_type": "code",
   "execution_count": null,
   "id": "4f3a7194",
   "metadata": {},
   "outputs": [],
   "source": []
  }
 ],
 "metadata": {
  "@webio": {
   "lastCommId": null,
   "lastKernelId": null
  },
  "kernelspec": {
   "display_name": "Python 3",
   "language": "python",
   "name": "python3"
  },
  "language_info": {
   "codemirror_mode": {
    "name": "ipython",
    "version": 3
   },
   "file_extension": ".py",
   "mimetype": "text/x-python",
   "name": "python",
   "nbconvert_exporter": "python",
   "pygments_lexer": "ipython3",
   "version": "3.9.12"
  }
 },
 "nbformat": 4,
 "nbformat_minor": 5
}
